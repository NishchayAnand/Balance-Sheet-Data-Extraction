{
 "cells": [
  {
   "cell_type": "code",
   "execution_count": 1,
   "metadata": {},
   "outputs": [],
   "source": [
    "import os\n",
    "import re\n",
    "import pandas as pd\n",
    "import json"
   ]
  },
  {
   "cell_type": "code",
   "execution_count": 2,
   "metadata": {},
   "outputs": [],
   "source": [
    "# function to process the extracted financial value (if extracted)\n",
    "def process_value(value):\n",
    "    if(value[0]==\"{\" or value[-1]==\"}\"):\n",
    "        return value\n",
    "    value = value.replace(\",\", \"\")\n",
    "    if(len(value)!=0):\n",
    "        if(value[0] == \"(\"): \n",
    "            value = value.replace(\"(\", \"-\")\n",
    "        if(value[-1] == \")\"):\n",
    "            value = value.replace(\")\", \"\")\n",
    "    return value"
   ]
  },
  {
   "cell_type": "code",
   "execution_count": 12,
   "metadata": {},
   "outputs": [],
   "source": [
    "def extract_financial_data(file_path):\n",
    "    \n",
    "#EXTRACTING LINES FROM THE TEXT FILE.\n",
    "\n",
    "    line_array=[]\n",
    "    f = open(file_path, \"r\")\n",
    "    for line in f.readlines():\n",
    "        line_array.append((\" \").join(line.split()))\n",
    "\n",
    "#FIND THE STARTING AND ENDING INDEX OF FINANCIAL DATA AND EXTRACTING THE LINES CONTAINING FINANCIAL DATA..\n",
    "    \n",
    "    # most of the files have financial data confined between two lines having \"dd Month YYYY\" string.\n",
    "    bounding_regex = re.compile(r'(\\d(\\d)?\\s+)(\\w+)\\s+\\d\\d\\d\\d$') \n",
    "    found=False\n",
    "    bounding_string=''\n",
    "    for line in line_array:\n",
    "        match = bounding_regex.search(line)\n",
    "        if match and found == False:\n",
    "            bounding_string=match.group()\n",
    "            found=True\n",
    "\n",
    "    financial_data=line_array\n",
    "    if(bounding_string!=''):\n",
    "        bounding_index=[line_array.index(l) for l in line_array if bounding_string in l] # index of lines containing the bounding string.\n",
    "        # if bounding string is present at the starting index \n",
    "        if(len(bounding_index)==1):\n",
    "            financial_data=financial_data[bounding_index[0]+1:]\n",
    "        # if we are able to find the starting and ending index using bounding string.\n",
    "        if(len(bounding_index)>1):\n",
    "            financial_data = financial_data[bounding_index[0]+1:bounding_index[1]]\n",
    "        for line in financial_data:\n",
    "            # lines having \"STATEMENTS\" or \"INFORMATION\" or \"NOTES TO THE ACCOUNTS\" can act as the ending index for the financial data.\n",
    "            if(\"statement\" in line.lower() or \"information\" in line.lower() or \"notes to the accounts\" in line.lower()):\n",
    "                financial_data = financial_data[:financial_data.index(line)]\n",
    "                break\n",
    "    \n",
    "    # (optional-does not make any change to the output-just reduces the redundant data-specific to the problem) \n",
    "    if(len(financial_data)>15):\n",
    "        financial_data=financial_data[:15]\n",
    "    \n",
    "# CODE TO FIND THE LINE - NOTES|NOTE (OPTIONAL) YEAR1 (OPTIONAL) YEAR2 to find the index of \"2019\" if it is there in the file\n",
    "\n",
    "    regex = re.compile(r'((Note|Notes)\\s)?((\\d){4}\\s)?(\\d){4}$')\n",
    "    # str_arr will be of the format [curr_year, prev_year] or [curr_year]\n",
    "    str_arr=[]\n",
    "    for line in financial_data:\n",
    "        match = regex.search(line)\n",
    "        if match:\n",
    "            financial_data=financial_data[financial_data.index(line)+2:]\n",
    "            str_arr=match.group().split()\n",
    "            if(str_arr[0]==\"Notes\" or str_arr[0]==\"Note\"):\n",
    "                str_arr.pop(0)\n",
    "            break\n",
    "    \n",
    "#EXTRACT THE FINAL DATA AND CREATE A DICTIONARY IF POSSIBLE.\n",
    "\n",
    "    index=-1\n",
    "    financial_record={}\n",
    "    \n",
    "    # if str_arr is of the format [curr_year, prev_year], then financial data can be of the format:\n",
    "    if(len(str_arr)==2):\n",
    "        regex_1=re.compile(r'(.*)\\s(\\(?[\\,\\.0-9]+\\)?|-)\\s(\\(?[\\,\\.0-9]+\\)?|-)$') # 1) string Value1 Value2\n",
    "        regex_2=re.compile(r'(\\(?[\\,0-9]+\\)?|-)\\s(\\(?[\\,0-9]+\\)?|-)$') # 2) Value1 Value2\n",
    "        regex_3=re.compile(r'(.*\\s.*)$') # 3) string\n",
    "        \n",
    "    # if str_arr is of the format [curr_year], then financial data can be of the format:\n",
    "    elif(len(str_arr)==1):\n",
    "        regex_1=re.compile(r'(.*)\\s(\\(?[\\,\\.0-9]+\\)?|-)$') # 1) string Value1\n",
    "        regex_2=re.compile(r'(\\(?[\\,\\.0-9]+\\)?|-)$') # 2) Value1\n",
    "        regex_3=re.compile(r'(.*\\s.*)$') # 3) string\n",
    "        \n",
    "    if(len(str_arr)!=0):\n",
    "        \n",
    "        # find the index of \"2019\" if it is present in the file.\n",
    "        if '2019' in str_arr:\n",
    "            index=str_arr.index(\"2019\")\n",
    "            \n",
    "        # extracting the label and its corresponding value (if it exists).\n",
    "        for line in financial_data:\n",
    "            label='nan'\n",
    "            value='nan'\n",
    "            \n",
    "            if(regex_1.search(line)):\n",
    "                match=regex_1.search(line)\n",
    "                label=match.group(1).replace(\"Â£\",\"&#163\").replace(\"Â$\",\"&#36\").replace(\"Â€\",\"&#8364\")\n",
    "                if(match.group(index+2)!='-' and index!=-1):\n",
    "                    value=process_value(match.group(index+2))\n",
    "                    \n",
    "            elif(regex_2.search(line)):\n",
    "                match=regex_2.search(line)\n",
    "                if(match.group(index+1)!='-' and index!=-1):\n",
    "                    value=process_value(match.group(index+1))\n",
    "                    \n",
    "            elif(regex_3.search(line)):\n",
    "                match=regex_3.search(line)\n",
    "                label=match.group(1).replace(\"Â£\",\"&#163\").replace(\"Â$\",\"&#36\").replace(\"Â€\",\"&#8364\")\n",
    "                \n",
    "            # appending the label and its value as key-value pair in a dictionary\n",
    "            financial_record.update({str(label):str(value)})\n",
    "                \n",
    "    return json.dumps(financial_record)"
   ]
  },
  {
   "cell_type": "code",
   "execution_count": 13,
   "metadata": {},
   "outputs": [],
   "source": [
    "def extract_balance_sheets_data(dir_path):\n",
    "    file_names = os.listdir(dir_path)\n",
    "    result=pd.DataFrame(columns=[\"Filename\", \"Extracted Values\"])\n",
    "    for file in file_names:\n",
    "        if file in file_names[:4]:\n",
    "            extracted_dic = extract_financial_data(os.path.join(dir_path, file))\n",
    "        else:\n",
    "            extracted_dic=json.dumps({})\n",
    "        file_dic={\n",
    "            \"Filename\":str(file.split(\".\")[0]),\n",
    "            \"Extracted Values\":extracted_dic\n",
    "        }\n",
    "        result = result.append(file_dic, ignore_index=\"True\")\n",
    "    return result"
   ]
  },
  {
   "cell_type": "code",
   "execution_count": 14,
   "metadata": {},
   "outputs": [],
   "source": [
    "#-----------------------------------------------------------------------------------------------------"
   ]
  },
  {
   "cell_type": "code",
   "execution_count": 15,
   "metadata": {
    "scrolled": false
   },
   "outputs": [],
   "source": [
    "dir_path = \".\\HCL ML Challenge Dataset\"\n",
    "result=extract_balance_sheets_data(dir_path)"
   ]
  },
  {
   "cell_type": "code",
   "execution_count": 16,
   "metadata": {},
   "outputs": [],
   "source": [
    "result.to_csv(\"result_1.csv\",index=False)"
   ]
  },
  {
   "cell_type": "code",
   "execution_count": null,
   "metadata": {},
   "outputs": [],
   "source": []
  }
 ],
 "metadata": {
  "kernelspec": {
   "display_name": "Python 3",
   "language": "python",
   "name": "python3"
  },
  "language_info": {
   "codemirror_mode": {
    "name": "ipython",
    "version": 3
   },
   "file_extension": ".py",
   "mimetype": "text/x-python",
   "name": "python",
   "nbconvert_exporter": "python",
   "pygments_lexer": "ipython3",
   "version": "3.7.3"
  }
 },
 "nbformat": 4,
 "nbformat_minor": 2
}
